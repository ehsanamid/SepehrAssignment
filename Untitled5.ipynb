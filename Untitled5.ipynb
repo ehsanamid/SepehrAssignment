{
  "nbformat": 4,
  "nbformat_minor": 0,
  "metadata": {
    "colab": {
      "name": "Untitled5.ipynb",
      "provenance": [],
      "authorship_tag": "ABX9TyNv6M9kNQ413BDBlviRuzxZ",
      "include_colab_link": true
    },
    "kernelspec": {
      "name": "python3",
      "display_name": "Python 3"
    },
    "language_info": {
      "name": "python"
    }
  },
  "cells": [
    {
      "cell_type": "markdown",
      "metadata": {
        "id": "view-in-github",
        "colab_type": "text"
      },
      "source": [
        "<a href=\"https://colab.research.google.com/github/ehsanamid/SepehrAssignment/blob/main/Untitled5.ipynb\" target=\"_parent\"><img src=\"https://colab.research.google.com/assets/colab-badge.svg\" alt=\"Open In Colab\"/></a>"
      ]
    },
    {
      "cell_type": "code",
      "execution_count": 1,
      "metadata": {
        "id": "4VLtsBIorCqJ"
      },
      "outputs": [],
      "source": [
        "#https://stackoverflow.com/questions/48966934/solve-a-system-of-linear-equations-and-linear-inequalities\n",
        "import numpy as np\n"
      ]
    },
    {
      "cell_type": "code",
      "source": [
        "from scipy import optimize"
      ],
      "metadata": {
        "id": "Ob07-36-rGRt"
      },
      "execution_count": 2,
      "outputs": []
    },
    {
      "cell_type": "code",
      "source": [
        "c = np.zeros(2)\n",
        "A_ub = np.array([[-1, -1]])\n",
        "b_ub = np.array([-180])\n",
        "A_eq = np.array([[3, 12]])\n",
        "b_eq = np.array([1000])\n",
        "bounds = [(30, 160), (10, 60)]"
      ],
      "metadata": {
        "id": "bt0CkNW-rJRE"
      },
      "execution_count": 3,
      "outputs": []
    },
    {
      "cell_type": "code",
      "source": [
        "optimize.linprog(c, A_ub, b_ub, A_eq, b_eq, bounds, method=\"simplex\")"
      ],
      "metadata": {
        "colab": {
          "base_uri": "https://localhost:8080/"
        },
        "id": "B9GyfhJqrWm8",
        "outputId": "b8609dbe-b3f0-4090-945e-f3423e99c6d3"
      },
      "execution_count": 4,
      "outputs": [
        {
          "output_type": "execute_result",
          "data": {
            "text/plain": [
              "     con: array([0.])\n",
              "     fun: 0.0\n",
              " message: 'Optimization terminated successfully.'\n",
              "     nit: 4\n",
              "   slack: array([23.33333333])\n",
              "  status: 0\n",
              " success: True\n",
              "       x: array([160.        ,  43.33333333])"
            ]
          },
          "metadata": {},
          "execution_count": 4
        }
      ]
    }
  ]
}