{
  "nbformat": 4,
  "nbformat_minor": 0,
  "metadata": {
    "colab": {
      "name": "Untitled4.ipynb",
      "provenance": [],
      "collapsed_sections": [],
      "authorship_tag": "ABX9TyPg7UO4RyOncJpIiBG98tF1",
      "include_colab_link": true
    },
    "kernelspec": {
      "name": "python3",
      "display_name": "Python 3"
    },
    "language_info": {
      "name": "python"
    }
  },
  "cells": [
    {
      "cell_type": "markdown",
      "metadata": {
        "id": "view-in-github",
        "colab_type": "text"
      },
      "source": [
        "<a href=\"https://colab.research.google.com/github/ehsanamid/SepehrAssignment/blob/main/Untitled4.ipynb\" target=\"_parent\"><img src=\"https://colab.research.google.com/assets/colab-badge.svg\" alt=\"Open In Colab\"/></a>"
      ]
    },
    {
      "cell_type": "code",
      "execution_count": 1,
      "metadata": {
        "id": "obKiJlbQpVEw"
      },
      "outputs": [],
      "source": [
        "#https://stackoverflow.com/questions/48966934/solve-a-system-of-linear-equations-and-linear-inequalities\n",
        "from scipy.optimize import linprog"
      ]
    },
    {
      "cell_type": "code",
      "source": [
        "# Set up values relating to both minimum and maximum values of y\n",
        "coefficients_inequalities = [[-1, -1]]  # require -1*x + -1*y <= -180\n",
        "constants_inequalities = [-180]\n",
        "coefficients_equalities = [[1, 1,1]]  # require 3*x + 12*y = 1000\n",
        "constants_equalities = [1000]\n",
        "bounds_x = (30, 160)  # require 30 <= x <= 160\n",
        "bounds_y = (10, 60)  # require 10 <= y <= 60"
      ],
      "metadata": {
        "id": "m6G0A0ImpZmK"
      },
      "execution_count": 2,
      "outputs": []
    },
    {
      "cell_type": "code",
      "source": [
        "# Find and print the minimal value of y\n",
        "coefficients_min_y = [0, 1]  # minimize 0*x + 1*y\n",
        "res = linprog(coefficients_min_y,\n",
        "              A_ub=coefficients_inequalities,\n",
        "              b_ub=constants_inequalities,\n",
        "              A_eq=coefficients_equalities,\n",
        "              b_eq=constants_equalities,\n",
        "              bounds=(bounds_x, bounds_y))\n",
        "print('Minimum value of y =', res.fun)\n",
        "print(res.x[0],res.x[1])"
      ],
      "metadata": {
        "colab": {
          "base_uri": "https://localhost:8080/"
        },
        "id": "EHQvTcO6pae3",
        "outputId": "348c3a5c-363c-41c4-d3aa-900f0555aacc"
      },
      "execution_count": 7,
      "outputs": [
        {
          "output_type": "stream",
          "name": "stdout",
          "text": [
            "Minimum value of y = 43.33333333332679\n",
            "159.99999999997343 43.33333333332679\n"
          ]
        },
        {
          "output_type": "stream",
          "name": "stderr",
          "text": [
            "/usr/local/lib/python3.7/dist-packages/numpy/core/fromnumeric.py:86: VisibleDeprecationWarning: Creating an ndarray from ragged nested sequences (which is a list-or-tuple of lists-or-tuples-or ndarrays with different lengths or shapes) is deprecated. If you meant to do this, you must specify 'dtype=object' when creating the ndarray.\n",
            "  return ufunc.reduce(obj, axis, dtype, out, **passkwargs)\n"
          ]
        }
      ]
    },
    {
      "cell_type": "code",
      "source": [
        "# Find and print the maximal value of y = minimal value of -y\n",
        "coefficients_max_y = [0, -1]  # minimize 0*x + -1*y\n",
        "res = linprog(coefficients_max_y,\n",
        "              A_ub=coefficients_inequalities,\n",
        "              b_ub=constants_inequalities,\n",
        "              A_eq=coefficients_equalities,\n",
        "              b_eq=constants_equalities,\n",
        "              bounds=(bounds_x, bounds_y))\n",
        "print('Maximum value of y =', -res.fun)  # opposite of value of -y\n",
        "print(res.x[0],res.x[1])"
      ],
      "metadata": {
        "colab": {
          "base_uri": "https://localhost:8080/"
        },
        "id": "NU-pSmOhpdRI",
        "outputId": "5438d5f6-06ee-45c7-a6a2-52f42ceabcc9"
      },
      "execution_count": 8,
      "outputs": [
        {
          "output_type": "stream",
          "name": "stdout",
          "text": [
            "Maximum value of y = 51.11111111104069\n",
            "128.88888888871492 51.11111111104069\n"
          ]
        },
        {
          "output_type": "stream",
          "name": "stderr",
          "text": [
            "/usr/local/lib/python3.7/dist-packages/numpy/core/fromnumeric.py:86: VisibleDeprecationWarning: Creating an ndarray from ragged nested sequences (which is a list-or-tuple of lists-or-tuples-or ndarrays with different lengths or shapes) is deprecated. If you meant to do this, you must specify 'dtype=object' when creating the ndarray.\n",
            "  return ufunc.reduce(obj, axis, dtype, out, **passkwargs)\n"
          ]
        }
      ]
    },
    {
      "cell_type": "code",
      "source": [
        "print(res.x[0],res.x[1])\n"
      ],
      "metadata": {
        "colab": {
          "base_uri": "https://localhost:8080/"
        },
        "id": "lUj724tUs9Xv",
        "outputId": "c34b5b90-1d1f-4466-e8a9-349527702f5d"
      },
      "execution_count": 6,
      "outputs": [
        {
          "output_type": "stream",
          "name": "stdout",
          "text": [
            "128.88888888871492 51.11111111104069\n"
          ]
        }
      ]
    }
  ]
}