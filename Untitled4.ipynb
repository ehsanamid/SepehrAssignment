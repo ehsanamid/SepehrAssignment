{
  "nbformat": 4,
  "nbformat_minor": 0,
  "metadata": {
    "colab": {
      "name": "Untitled4.ipynb",
      "provenance": [],
      "authorship_tag": "ABX9TyPQX9CYI7f9tN4ZuB4Ss2c+",
      "include_colab_link": true
    },
    "kernelspec": {
      "name": "python3",
      "display_name": "Python 3"
    },
    "language_info": {
      "name": "python"
    }
  },
  "cells": [
    {
      "cell_type": "markdown",
      "metadata": {
        "id": "view-in-github",
        "colab_type": "text"
      },
      "source": [
        "<a href=\"https://colab.research.google.com/github/ehsanamid/SepehrAssignment/blob/main/Untitled4.ipynb\" target=\"_parent\"><img src=\"https://colab.research.google.com/assets/colab-badge.svg\" alt=\"Open In Colab\"/></a>"
      ]
    },
    {
      "cell_type": "code",
      "execution_count": 1,
      "metadata": {
        "id": "obKiJlbQpVEw"
      },
      "outputs": [],
      "source": [
        "from scipy.optimize import linprog"
      ]
    },
    {
      "cell_type": "code",
      "source": [
        "# Set up values relating to both minimum and maximum values of y\n",
        "coefficients_inequalities = [[-1, -1]]  # require -1*x + -1*y <= -180\n",
        "constants_inequalities = [-180]\n",
        "coefficients_equalities = [[3, 12]]  # require 3*x + 12*y = 1000\n",
        "constants_equalities = [1000]\n",
        "bounds_x = (30, 160)  # require 30 <= x <= 160\n",
        "bounds_y = (10, 60)  # require 10 <= y <= 60"
      ],
      "metadata": {
        "id": "m6G0A0ImpZmK"
      },
      "execution_count": 2,
      "outputs": []
    },
    {
      "cell_type": "code",
      "source": [
        "# Find and print the minimal value of y\n",
        "coefficients_min_y = [0, 1]  # minimize 0*x + 1*y\n",
        "res = linprog(coefficients_min_y,\n",
        "              A_ub=coefficients_inequalities,\n",
        "              b_ub=constants_inequalities,\n",
        "              A_eq=coefficients_equalities,\n",
        "              b_eq=constants_equalities,\n",
        "              bounds=(bounds_x, bounds_y))\n",
        "print('Minimum value of y =', res.fun)"
      ],
      "metadata": {
        "colab": {
          "base_uri": "https://localhost:8080/"
        },
        "id": "EHQvTcO6pae3",
        "outputId": "18d05c38-e43e-4fe0-f222-05760b49cbb0"
      },
      "execution_count": 3,
      "outputs": [
        {
          "output_type": "stream",
          "name": "stdout",
          "text": [
            "Minimum value of y = 43.33333333332679\n"
          ]
        },
        {
          "output_type": "stream",
          "name": "stderr",
          "text": [
            "/usr/local/lib/python3.7/dist-packages/numpy/core/fromnumeric.py:86: VisibleDeprecationWarning: Creating an ndarray from ragged nested sequences (which is a list-or-tuple of lists-or-tuples-or ndarrays with different lengths or shapes) is deprecated. If you meant to do this, you must specify 'dtype=object' when creating the ndarray.\n",
            "  return ufunc.reduce(obj, axis, dtype, out, **passkwargs)\n"
          ]
        }
      ]
    },
    {
      "cell_type": "code",
      "source": [
        "# Find and print the maximal value of y = minimal value of -y\n",
        "coefficients_max_y = [0, -1]  # minimize 0*x + -1*y\n",
        "res = linprog(coefficients_max_y,\n",
        "              A_ub=coefficients_inequalities,\n",
        "              b_ub=constants_inequalities,\n",
        "              A_eq=coefficients_equalities,\n",
        "              b_eq=constants_equalities,\n",
        "              bounds=(bounds_x, bounds_y))\n",
        "print('Maximum value of y =', -res.fun)  # opposite of value of -y"
      ],
      "metadata": {
        "colab": {
          "base_uri": "https://localhost:8080/"
        },
        "id": "NU-pSmOhpdRI",
        "outputId": "3fee26c0-29ec-4e76-8680-f275b6fc6afa"
      },
      "execution_count": 4,
      "outputs": [
        {
          "output_type": "stream",
          "name": "stdout",
          "text": [
            "Maximum value of y = 51.11111111104069\n"
          ]
        },
        {
          "output_type": "stream",
          "name": "stderr",
          "text": [
            "/usr/local/lib/python3.7/dist-packages/numpy/core/fromnumeric.py:86: VisibleDeprecationWarning: Creating an ndarray from ragged nested sequences (which is a list-or-tuple of lists-or-tuples-or ndarrays with different lengths or shapes) is deprecated. If you meant to do this, you must specify 'dtype=object' when creating the ndarray.\n",
            "  return ufunc.reduce(obj, axis, dtype, out, **passkwargs)\n"
          ]
        }
      ]
    }
  ]
}